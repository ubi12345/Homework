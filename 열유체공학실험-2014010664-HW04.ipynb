{
  "nbformat": 4,
  "nbformat_minor": 0,
  "metadata": {
    "colab": {
      "name": "Untitled4.ipynb",
      "provenance": [],
      "include_colab_link": true
    },
    "kernelspec": {
      "name": "python3",
      "display_name": "Python 3"
    }
  },
  "cells": [
    {
      "cell_type": "markdown",
      "metadata": {
        "id": "view-in-github",
        "colab_type": "text"
      },
      "source": [
        "<a href=\"https://colab.research.google.com/github/ubi12345/Homework/blob/master/%EC%97%B4%EC%9C%A0%EC%B2%B4%EA%B3%B5%ED%95%99%EC%8B%A4%ED%97%98-2014010664-HW04.ipynb\" target=\"_parent\"><img src=\"https://colab.research.google.com/assets/colab-badge.svg\" alt=\"Open In Colab\"/></a>"
      ]
    },
    {
      "cell_type": "code",
      "metadata": {
        "id": "g1kx1tHjU73z",
        "colab_type": "code",
        "colab": {
          "base_uri": "https://localhost:8080/",
          "height": 217
        },
        "outputId": "b88a276b-9683-46bc-94f5-4952c870fcc4"
      },
      "source": [
        "def ubi(x):\n",
        "     for i in range(1,10):\n",
        "         x = int(x)\n",
        "         k = x * i\n",
        "         print(x, ' * ', i, ' = ', k)\n",
        "\n",
        "if __name__ == '__main__':     \n",
        "    y =  input('숫자 입력: ')\n",
        "    y = float(y)\n",
        "\n",
        "    if y > 0 and y.is_integer():\n",
        "        ubi(y)     \n",
        "    else:\n",
        "        print('양수를 입력하세요')\n",
        "\n",
        "%timeit ubi"
      ],
      "execution_count": 14,
      "outputs": [
        {
          "output_type": "stream",
          "text": [
            "숫자 입력: 7\n",
            "7  *  1  =  7\n",
            "7  *  2  =  14\n",
            "7  *  3  =  21\n",
            "7  *  4  =  28\n",
            "7  *  5  =  35\n",
            "7  *  6  =  42\n",
            "7  *  7  =  49\n",
            "7  *  8  =  56\n",
            "7  *  9  =  63\n",
            "100000000 loops, best of 3: 17.6 ns per loop\n"
          ],
          "name": "stdout"
        }
      ]
    },
    {
      "cell_type": "code",
      "metadata": {
        "id": "CGR37dD7VE-Z",
        "colab_type": "code",
        "colab": {
          "base_uri": "https://localhost:8080/",
          "height": 72
        },
        "outputId": "51f55a4d-1d4d-454d-f5f4-5ca3db70316d"
      },
      "source": [
        "import numpy as np\n",
        "def ubi(a):\n",
        "  x=np.arange(1,10,1)\n",
        "  a=int(a)\n",
        "  print(a,'*',x,'=',a*x)\n",
        "\n",
        "if __name__ == '__main__':\n",
        "  b=input('숫자 입력:')\n",
        "  b=float(b)\n",
        "  \n",
        "  if b>0 and b.is_integer():\n",
        "    ubi(b)\n",
        "  else:\n",
        "    print('양수를 입력하세요')\n",
        "\n",
        "%timeit ubi"
      ],
      "execution_count": 15,
      "outputs": [
        {
          "output_type": "stream",
          "text": [
            "숫자 입력:6\n",
            "6 * [1 2 3 4 5 6 7 8 9] = [ 6 12 18 24 30 36 42 48 54]\n",
            "100000000 loops, best of 3: 17.7 ns per loop\n"
          ],
          "name": "stdout"
        }
      ]
    },
    {
      "cell_type": "code",
      "metadata": {
        "id": "eHCHGAk0VFLo",
        "colab_type": "code",
        "colab": {
          "base_uri": "https://localhost:8080/",
          "height": 217
        },
        "outputId": "2ab186fd-3055-467f-bbe9-94b8325e73d9"
      },
      "source": [
        "import numba       \n",
        "@numba.jit(\"void(f4[:])\")\n",
        "def ubi_jit_function(x):\n",
        "  for i in range(1,10):\n",
        "         x = int(x)\n",
        "         k = x * i\n",
        "         print(x, ' * ', i, ' = ', k)\n",
        "\n",
        "if __name__ == '__main__':     \n",
        "    y =  input('숫자 입력: ')\n",
        "    y = float(y)\n",
        "\n",
        "    if y > 0 and y.is_integer():\n",
        "        ubi_jit_function(y)     \n",
        "    else:\n",
        "        print('양수를 입력하세요')\n",
        "\n",
        "%timeit ubi_jit_function"
      ],
      "execution_count": 19,
      "outputs": [
        {
          "output_type": "stream",
          "text": [
            "숫자 입력: 5\n",
            "5.0  *  1  =  5.0\n",
            "5.0  *  2  =  10.0\n",
            "5.0  *  3  =  15.0\n",
            "5.0  *  4  =  20.0\n",
            "5.0  *  5  =  25.0\n",
            "5.0  *  6  =  30.0\n",
            "5.0  *  7  =  35.0\n",
            "5.0  *  8  =  40.0\n",
            "5.0  *  9  =  45.0\n",
            "10000000 loops, best of 3: 19.3 ns per loop\n"
          ],
          "name": "stdout"
        }
      ]
    },
    {
      "cell_type": "code",
      "metadata": {
        "id": "JkIDKn_HVFSi",
        "colab_type": "code",
        "colab": {
          "base_uri": "https://localhost:8080/",
          "height": 199
        },
        "outputId": "77f94e67-9740-47b7-e02c-82cd23bc2260"
      },
      "source": [
        "a=int(input(\"숫자 입력 : \"))\n",
        "import numpy as np\n",
        "x=np.array([1, 2, 3, 4, 5, 6, 7, 8, 9])\n",
        "@numba.jit\n",
        "def 구구단(k,j):\n",
        "  return x*a\n",
        "print(구구단(x,a))\n",
        "%timeit 구구단(x,a)\n",
        "\n",
        "!find / -iname 'libdevice'\n",
        "!find / -iname 'libnvvm.so'\n",
        "import os\n",
        "os.environ['NUMBAPRO_LIBDEVICE'] = \"/usr/local/cuda-10.0/nvvm/libdevice\"\n",
        "os.environ['NUMBAPRO_NVVM'] = \"/usr/local/cuda-10.0/nvvm/lib64/libnvvm.so\"\n",
        "\n",
        "import numpy as np\n",
        "from numba import vectorize\n",
        "\n",
        "\n",
        "a=int(input(\"숫자 입력 : \"))\n",
        "\n",
        "x=np.array([1, 2, 3, 4, 5, 6, 7, 8, 9])\n",
        "@vectorize\n",
        "def cudaa(k,j):\n",
        "  return k*j\n",
        "print(cudaa(a,x))\n",
        "%timeit cudaa(a,x)"
      ],
      "execution_count": 26,
      "outputs": [
        {
          "output_type": "stream",
          "text": [
            "숫자 입력 : 4\n",
            "[ 4  8 12 16 20 24 28 32 36]\n",
            "The slowest run took 12.52 times longer than the fastest. This could mean that an intermediate result is being cached.\n",
            "1000000 loops, best of 3: 642 ns per loop\n",
            "/usr/local/cuda-10.1/nvvm/libdevice\n",
            "/usr/local/cuda-10.1/nvvm/lib64/libnvvm.so\n",
            "숫자 입력 : 3\n",
            "[ 3  6  9 12 15 18 21 24 27]\n",
            "The slowest run took 11.55 times longer than the fastest. This could mean that an intermediate result is being cached.\n",
            "1000000 loops, best of 3: 857 ns per loop\n"
          ],
          "name": "stdout"
        }
      ]
    }
  ]
}